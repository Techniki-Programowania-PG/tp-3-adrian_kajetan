{
 "cells": [
  {
   "cell_type": "markdown",
   "id": "7956736a",
   "metadata": {},
   "source": [
    "\n",
    "# Oddanie Projektu 3, grupa nr 7 – Przetwarzanie sygnałów\n",
    "\n",
    "Projekt implementuje bibliotekę C++ do przetwarzania sygnałów, udostępnioną jako moduł Pythonowy za pomocą pybind11.\n",
    "\n",
    "W tym notebooku prezentuję wszystkie podstawowe funkcjonalności:\n",
    "- Generowanie sygnałów o zadanej częstotliwości (sin, cos, prostokątny, piłokształtny)\n",
    "- Transformacja DFT i odwrotna IDFT\n",
    "- Filtracja 1D i 2D\n",
    "- Detekcja pików i energia sygnału\n",
    "- Wizualizacja sygnału z wykorzystaniem biblioteki matplotplusplus \n",
    "\n",
    "Dodatkowo: Usuwanie wysokich częstotliwości z sygnału (grupa 7)\n",
    "\n",
    "Niektóre funkcje są także zilustrowane wykresami widma częstotliwości.\n"
   ]
  },
  {
   "cell_type": "code",
   "execution_count": null,
   "id": "5358a5bb",
   "metadata": {},
   "outputs": [],
   "source": [
    "\n",
    "import scikit_build_example as sbe\n",
    "import numpy as np\n",
    "import matplotlib.pyplot as plt\n"
   ]
  },
  {
   "cell_type": "markdown",
   "id": "cdfd6b8f",
   "metadata": {},
   "source": [
    "## Generowanie sygnałów"
   ]
  },
  {
   "cell_type": "code",
   "execution_count": null,
   "id": "2d1a2345",
   "metadata": {},
   "outputs": [],
   "source": [
    "\n",
    "length = 200\n",
    "sampling_rate = 200.0\n",
    "sinus = sbe.generate_sine(length, 5.0, sampling_rate)\n",
    "cosinus = sbe.generate_cosine(length, 8.0, sampling_rate)\n",
    "square = sbe.generate_square(length, 6.0, sampling_rate)\n",
    "saw = sbe.generate_sawtooth(length, 10.0, sampling_rate)\n"
   ]
  },
  {
   "cell_type": "markdown",
   "id": "b7ea9045",
   "metadata": {},
   "source": [
    "## DFT – wizualizacja widma"
   ]
  },
  {
   "cell_type": "code",
   "execution_count": null,
   "id": "e47eb4ec",
   "metadata": {},
   "outputs": [],
   "source": [
    "\n",
    "spec = sbe.dft(sinus)\n",
    "plt.plot([abs(z) for z in spec])\n",
    "plt.title(\"Widmo amplitudowe DFT – sinus 5 Hz\")\n",
    "plt.xlabel(\"Częstotliwość (index)\")\n",
    "plt.ylabel(\"Amplituda\")\n",
    "plt.grid(True)\n",
    "plt.show()\n"
   ]
  },
  {
   "cell_type": "markdown",
   "id": "6da17397",
   "metadata": {},
   "source": [
    "## Sygnał mieszany i jego widmo"
   ]
  },
  {
   "cell_type": "code",
   "execution_count": null,
   "id": "511d49b2",
   "metadata": {},
   "outputs": [],
   "source": [
    "\n",
    "signal1 = 0.5 * sbe.generate_sine(length, 5.0, sampling_rate)\n",
    "signal2 = 1.1 * sbe.generate_sine(length, 50.0, sampling_rate)\n",
    "mixed = [a + b for a, b in zip(signal1, signal2)]\n",
    "spec_mixed = sbe.dft(mixed)\n",
    "plt.plot([abs(z) for z in spec_mixed])\n",
    "plt.title(\"Widmo amplitudowe DFT – mieszany sygnał (5 Hz + 50 Hz)\")\n",
    "plt.xlabel(\"Częstotliwość (index)\")\n",
    "plt.ylabel(\"Amplituda\")\n",
    "plt.grid(True)\n",
    "plt.show()\n"
   ]
  },
  {
   "cell_type": "markdown",
   "id": "72d5b082",
   "metadata": {},
   "source": [
    "\n",
    "## Podsumowanie\n",
    "\n",
    "Notebook zawiera:\n",
    "- Przykłady generowania sygnałów 1D\n",
    "- Transformacje DFT i IDFT\n",
    "- Filtracje 1D i 2D\n",
    "- Detekcję pików\n",
    "- Dodatkową analizę widma amplitudowego\n"
   ]
  }
 ],
 "metadata": {},
 "nbformat": 4,
 "nbformat_minor": 5
}
