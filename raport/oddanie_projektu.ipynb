{
 "cells": [
  {
   "cell_type": "markdown",
   "id": "f3b96056",
   "metadata": {},
   "source": [
    "\n",
    "# Oddanie Projektu 3, grupa nr 7 – Przetwarzanie sygnałów\n",
    "\n",
    "Projekt implementuje bibliotekę C++ do przetwarzania sygnałów, udostępnioną jako moduł Pythonowy za pomocą pybind11.\n",
    "\n",
    "W tym notebooku prezentuję wszystkie podstawowe funkcjonalności:\n",
    "- Generowanie sygnałów o zadanej częstotliwości (sin, cos, prostokątny, piłokształtny)\n",
    "- Transformacja DFT i odwrotna IDFT\n",
    "- Filtracja 1D i 2D\n",
    "- Detekcja pików i energia sygnału\n",
    "- Wizualizacja sygnału z wykorzystaniem biblioteki matplotplusplus \n",
    "\n",
    "Przedstawiam także zadaną dodatkową funkcjonalność dla grupy nr 7:\n",
    "- Usuwanie wysokich częstotliwości z sygnału (korzystajac z DFT)\n",
    "\n",
    "Warto także dodać, iż nie dołączam wizualizacji wszystkich sygnałów, a jedynie wybranych dla pokazania funkcjonalności.\n"
   ]
  },
  {
   "cell_type": "code",
   "execution_count": null,
   "id": "a6f6da1c",
   "metadata": {},
   "outputs": [],
   "source": [
    "\n",
    "import scikit_build_example as sbe\n",
    "import numpy as np\n"
   ]
  },
  {
   "cell_type": "markdown",
   "id": "bb9ab079",
   "metadata": {},
   "source": [
    "## Generowanie sygnałów"
   ]
  },
  {
   "cell_type": "code",
   "execution_count": null,
   "id": "8ea6fd0f",
   "metadata": {},
   "outputs": [],
   "source": [
    "\n",
    "# Parametry\n",
    "length = 200\n",
    "sampling_rate = 200.0  # Hz\n",
    "\n",
    "# Sygnały\n",
    "sinus = sbe.generate_sine(length, 5.0, sampling_rate)\n",
    "cosinus = sbe.generate_cosine(length, 10.0, sampling_rate)\n",
    "square = sbe.generate_square(length, 6.0, sampling_rate)\n",
    "saw = sbe.generate_sawtooth(length, 8.0, sampling_rate)\n",
    "\n",
    "# Oś czasu\n",
    "t = np.linspace(0.0, length / sampling_rate, length)\n",
    "\n",
    "# Wizualizacja\n",
    "sbe.plot_signal(sinus)\n",
    "sbe.plot_signal(saw)\n"
   ]
  },
  {
   "cell_type": "markdown",
   "id": "ecbab45a",
   "metadata": {},
   "source": [
    "## DFT i IDFT"
   ]
  },
  {
   "cell_type": "code",
   "execution_count": null,
   "id": "3b016d0c",
   "metadata": {},
   "outputs": [],
   "source": [
    "\n",
    "spectrum = sbe.dft(sinus)\n",
    "restored = sbe.idft(spectrum)\n",
    "sbe.plot_signal(sinus)\n",
    "sbe.plot_signal(restored)\n"
   ]
  },
  {
   "cell_type": "code",
   "execution_count": null,
   "id": "6c143069",
   "metadata": {},
   "outputs": [],
   "source": [
    "\n",
    "# Sprawdzenie błędu\n",
    "np.max(np.abs(np.array(sinus) - np.array([z.real for z in restored])))\n"
   ]
  },
  {
   "cell_type": "markdown",
   "id": "89c0640d",
   "metadata": {},
   "source": [
    "## Złożony sygnał – suma sinusów"
   ]
  },
  {
   "cell_type": "code",
   "execution_count": null,
   "id": "8f63860a",
   "metadata": {},
   "outputs": [],
   "source": [
    "\n",
    "signal1 = 0.5 * sbe.generate_sine(length, 5.0, sampling_rate)\n",
    "signal2 = 1.1 * sbe.generate_sine(length, 50.0, sampling_rate)\n",
    "mixed = [a + b for a, b in zip(signal1, signal2)]\n",
    "sbe.plot_signal(mixed)\n",
    "spectrum = sbe.dft(mixed)\n"
   ]
  },
  {
   "cell_type": "markdown",
   "id": "f7871250",
   "metadata": {},
   "source": [
    "## Filtracja sygnału"
   ]
  },
  {
   "cell_type": "code",
   "execution_count": null,
   "id": "fe9a53d3",
   "metadata": {},
   "outputs": [],
   "source": [
    "\n",
    "filtered = sbe.low_pass_filter(mixed, 10.0, sampling_rate)\n",
    "sbe.plot_signal(filtered)\n"
   ]
  },
  {
   "cell_type": "markdown",
   "id": "c972b4fe",
   "metadata": {},
   "source": [
    "## Filtracja 2D – średnia ruchoma"
   ]
  },
  {
   "cell_type": "code",
   "execution_count": null,
   "id": "271d0b60",
   "metadata": {},
   "outputs": [],
   "source": [
    "\n",
    "image = [[i + j for j in range(10)] for i in range(10)]\n",
    "filtered_2d = sbe.moving_average_filter(image)\n",
    "filtered_2d\n"
   ]
  },
  {
   "cell_type": "markdown",
   "id": "7926f67d",
   "metadata": {},
   "source": [
    "## Detekcja pików i energia"
   ]
  },
  {
   "cell_type": "code",
   "execution_count": null,
   "id": "4567f4d5",
   "metadata": {},
   "outputs": [],
   "source": [
    "\n",
    "sbe.detect_peaks(sinus, 0.5)\n",
    "sbe.compute_energy(sinus)\n"
   ]
  },
  {
   "cell_type": "markdown",
   "id": "4b5f8d49",
   "metadata": {},
   "source": [
    "\n",
    "## Podsumowanie\n",
    "\n",
    "W notebooku zaprezentowano wszystkie funkcje wymagane w projekcie:\n",
    "- Sygnały 1D (sin, cos, square, sawtooth)\n",
    "- DFT / IDFT\n",
    "- Filtracja dolnoprzepustowa i 2D\n",
    "- Detekcja pików\n",
    "- Wizualizacja z matplot++\n",
    "\n",
    "Wszystkie funkcje zostały zaimplementowane w C++ i udostępnione jako moduł Pythonowy przez pybind11.\n"
   ]
  }
 ],
 "metadata": {},
 "nbformat": 4,
 "nbformat_minor": 5
}
