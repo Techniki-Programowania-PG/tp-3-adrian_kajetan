{
 "cells": [
  {
   "cell_type": "markdown",
   "id": "682f98e9",
   "metadata": {},
   "source": [
    "# Oddanie Projektu 3, grupa nr 7 – Przetwarzanie sygnałów\n",
    "\n",
    "Projekt implementuje bibliotekę C++ do przetwarzania sygnałów, udostępnioną jako moduł Pythonowy za pomocą pybind11.\n",
    "\n",
    "W tym notebooku prezentuję wszystkie podstawowe funkcjonalności:\n",
    "- Generowanie sygnałów o zadanej częstotliwości (sin, cos, prostokątny, piłokształtny)\n",
    "- Transformacja DFT i odwrotna IDFT\n",
    "- Filtracja 1D i 2D\n",
    "- Detekcja pików i energia sygnału\n",
    "- Wizualizacja sygnału z wykorzystaniem biblioteki matplotplusplus \n",
    "\n",
    "Przedstawiam także zadaną dodatkową funkcjonalność dla grupy nr 7:\n",
    "- Usuwanie wysokich częstotliwości z sygnału (korzystajac z DFT)\n",
    "\n",
    "Warto także dodać, iż nie dołączam wizualizacji wszystkich sygnałów, a jedynie wybranych dla pokazania funkcjonalności.\n"
   ]
  },
  {
   "cell_type": "code",
   "execution_count": null,
   "id": "e8b37391",
   "metadata": {},
   "outputs": [],
   "source": [
    "import scikit_build_example as sbe\n",
    "import numpy as np\n"
   ]
  },
  {
   "cell_type": "markdown",
   "id": "aa3daa3b",
   "metadata": {},
   "source": [
    "## Generowanie sygnałów\n",
    "\n",
    "Poniżej generujemy 4 rodzaje sygnałów o częstotliwościach od 5 do 10 Hz, przez 2.0 sekundy, z 200 próbkami.\n"
   ]
  },
  {
   "cell_type": "code",
   "execution_count": null,
   "id": "dfab8c4c",
   "metadata": {},
   "outputs": [],
   "source": [
    "length = 200\n",
    "sampling_rate = 100.0\n",
    "sinus = sbe.generate_sine(length, 5.0, sampling_rate)\n",
    "cosinus = sbe.generate_cosine(length, 8.0, sampling_rate)\n",
    "square = sbe.generate_square(length, 6.0, sampling_rate)\n",
    "saw = sbe.generate_sawtooth(length, 10.0, sampling_rate)\n",
    "\n",
    "sbe.plot_signal(sinus)\n",
    "sbe.plot_signal(saw)\n"
   ]
  },
  {
   "cell_type": "markdown",
   "id": "399c5de5",
   "metadata": {},
   "source": [
    "## DFT i IDFT\n",
    "\n",
    "Sprawdzamy czy `idft(dft(x)) ≈ x` dla sygnału sinusoidalnego.\n"
   ]
  },
  {
   "cell_type": "code",
   "execution_count": null,
   "id": "cd70ca43",
   "metadata": {},
   "outputs": [],
   "source": [
    "spectrum = sbe.dft(sinus)\n",
    "restored = sbe.idft(spectrum)\n",
    "\n",
    "sbe.plot_signal(sinus)\n",
    "sbe.plot_signal([z.real for z in restored])\n"
   ]
  },
  {
   "cell_type": "code",
   "execution_count": null,
   "id": "22cf59b1",
   "metadata": {},
   "outputs": [],
   "source": [
    "# Sprawdzenie błędu\n",
    "np.max(np.abs(np.array(sinus) - np.array([z.real for z in restored])))\n"
   ]
  },
  {
   "cell_type": "markdown",
   "id": "a213171f",
   "metadata": {},
   "source": [
    "## Złożony sygnał – suma sinusów\n",
    "\n",
    "Pokazujemy przykład sygnału złożonego z 2 częstotliwości.\n"
   ]
  },
  {
   "cell_type": "code",
   "execution_count": null,
   "id": "8aef123b",
   "metadata": {},
   "outputs": [],
   "source": [
    "signal1 = 0.5 * np.array(sbe.generate_sine(length, 5.0, sampling_rate))\n",
    "signal2 = 1.1 * np.array(sbe.generate_sine(length, 50.0, sampling_rate))\n",
    "mixed = list(signal1 + signal2)\n",
    "\n",
    "sbe.plot_signal(mixed)\n"
   ]
  },
  {
   "cell_type": "code",
   "execution_count": null,
   "id": "cdb5ffb2",
   "metadata": {},
   "outputs": [],
   "source": [
    "spectrum_mixed = sbe.dft(mixed)\n",
    "amplitudes = [abs(z) for z in spectrum_mixed]\n",
    "sbe.plot_signal(amplitudes)\n"
   ]
  },
  {
   "cell_type": "markdown",
   "id": "19ea40d4",
   "metadata": {},
   "source": [
    "## Filtracja sygnału\n",
    "\n",
    "Zastosowanie filtru dolnoprzepustowego do złożonego sygnału.\n"
   ]
  },
  {
   "cell_type": "code",
   "execution_count": null,
   "id": "2fbab5d4",
   "metadata": {},
   "outputs": [],
   "source": [
    "filtered = sbe.low_pass_filter(mixed, 10.0, sampling_rate)\n",
    "sbe.plot_signal(filtered)\n"
   ]
  },
  {
   "cell_type": "markdown",
   "id": "bcedf907",
   "metadata": {},
   "source": [
    "## Filtracja 2D – średnia ruchoma\n"
   ]
  },
  {
   "cell_type": "code",
   "execution_count": null,
   "id": "736ff7c9",
   "metadata": {},
   "outputs": [],
   "source": [
    "image = [[i + j for j in range(10)] for i in range(10)]\n",
    "filtered_2d = sbe.moving_average_filter(image)\n",
    "filtered_2d\n"
   ]
  },
  {
   "cell_type": "markdown",
   "id": "62cdbda3",
   "metadata": {},
   "source": [
    "## Detekcja pików i energia\n"
   ]
  },
  {
   "cell_type": "code",
   "execution_count": null,
   "id": "f65e958b",
   "metadata": {},
   "outputs": [],
   "source": [
    "sbe.detect_peaks(sinus, 0.5)\n",
    "sbe.compute_energy(sinus)\n"
   ]
  },
  {
   "cell_type": "markdown",
   "id": "e3ca8d48",
   "metadata": {},
   "source": [
    "## Podsumowanie\n",
    "\n",
    "W notebooku zaprezentowano wszystkie funkcje wymagane w projekcie:\n",
    "- Sygnały 1D (sin, cos, square, sawtooth)\n",
    "- DFT / IDFT\n",
    "- Filtracja dolnoprzepustowa i 2D\n",
    "- Detekcja pików\n",
    "- Wizualizacja z matplot++\n",
    "\n",
    "Wszystkie funkcje zostały zaimplementowane w C++ i udostępnione jako moduł Pythonowy przez pybind11.\n"
   ]
  }
 ],
 "metadata": {},
 "nbformat": 4,
 "nbformat_minor": 5
}
