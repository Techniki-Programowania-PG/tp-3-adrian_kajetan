{
 "cells": [
  {
   "cell_type": "markdown",
   "id": "c5655608",
   "metadata": {},
   "source": [
    "\n",
    "# Oddanie Projektu 3, grupa nr 7 – Przetwarzanie sygnałów\n",
    "\n",
    "Projekt implementuje bibliotekę C++ do przetwarzania sygnałów, udostępnioną jako moduł Pythonowy za pomocą pybind11.\n",
    "\n",
    "W tym notebooku prezentuję wszystkie podstawowe funkcjonalności:\n",
    "- Generowanie sygnałów o zadanej częstotliwości (sin, cos, prostokątny, piłokształtny)\n",
    "- Transformacja DFT i odwrotna IDFT\n",
    "- Filtracja 1D i 2D\n",
    "- Detekcja pików i energia sygnału\n",
    "- Wizualizacja sygnału z wykorzystaniem biblioteki matplotplusplus \n",
    "\n",
    "Przedstawiam także zadaną dodatkową funkcjonalność dla grupy nr 7:\n",
    "- Usuwanie wysokich częstotliwości z sygnału (korzystajac z DFT)\n",
    "\n",
    "Warto także dodać, iż nie dołączam wizualizacji wszystkich sygnałów, a jedynie wybranych dla pokazania funkcjonalności.\n"
   ]
  },
  {
   "cell_type": "code",
   "execution_count": null,
   "id": "95df1cea",
   "metadata": {},
   "outputs": [],
   "source": [
    "\n",
    "import scikit_build_example as sbe\n",
    "import numpy as np\n",
    "from IPython.display import Image\n"
   ]
  },
  {
   "cell_type": "markdown",
   "id": "d82a2777",
   "metadata": {},
   "source": [
    "## Generowanie sygnałów"
   ]
  },
  {
   "cell_type": "code",
   "execution_count": null,
   "id": "486f6ddf",
   "metadata": {},
   "outputs": [],
   "source": [
    "\n",
    "sinus = sbe.generate_sine(5.0, 0.0, 1.0, 100)\n",
    "cosinus = sbe.generate_cosine(10.0, 0.0, 1.0, 100)\n",
    "square = sbe.generate_square(5.0, 0.0, 1.0, 100)\n",
    "saw = sbe.generate_sawtooth(5.0, 0.0, 1.0, 100)\n",
    "t = np.linspace(0.0, 1.0, 100)\n",
    "sbe.plot_signal(sinus)\n"
   ]
  },
  {
   "cell_type": "code",
   "execution_count": null,
   "id": "1786ad97",
   "metadata": {},
   "outputs": [],
   "source": [
    "Image(\"raport/plot_sine.png\")"
   ]
  },
  {
   "cell_type": "code",
   "execution_count": null,
   "id": "95139cd8",
   "metadata": {},
   "outputs": [],
   "source": [
    "\n",
    "sbe.plot_signal(saw)\n"
   ]
  },
  {
   "cell_type": "code",
   "execution_count": null,
   "id": "2043ca3c",
   "metadata": {},
   "outputs": [],
   "source": [
    "Image(\"raport/plot_sawtooth.png\")"
   ]
  },
  {
   "cell_type": "markdown",
   "id": "ee7b5ca0",
   "metadata": {},
   "source": [
    "## DFT i IDFT"
   ]
  },
  {
   "cell_type": "code",
   "execution_count": null,
   "id": "2744d654",
   "metadata": {},
   "outputs": [],
   "source": [
    "\n",
    "spectrum = sbe.dft(sinus)\n",
    "restored = sbe.idft(spectrum)\n",
    "sbe.plot_signal(sinus)\n"
   ]
  },
  {
   "cell_type": "code",
   "execution_count": null,
   "id": "f12cfe6a",
   "metadata": {},
   "outputs": [],
   "source": [
    "Image(\"raport/plot_dft_original.png\")"
   ]
  },
  {
   "cell_type": "code",
   "execution_count": null,
   "id": "39371fb2",
   "metadata": {},
   "outputs": [],
   "source": [
    "\n",
    "sbe.plot_signal(restored)\n"
   ]
  },
  {
   "cell_type": "code",
   "execution_count": null,
   "id": "83c461d9",
   "metadata": {},
   "outputs": [],
   "source": [
    "Image(\"raport/plot_dft_restored.png\")"
   ]
  },
  {
   "cell_type": "code",
   "execution_count": null,
   "id": "6364ea03",
   "metadata": {},
   "outputs": [],
   "source": [
    "\n",
    "# Sprawdzenie błędu\n",
    "np.max(np.abs(np.array(sinus) - np.array([z.real for z in restored])))\n"
   ]
  },
  {
   "cell_type": "markdown",
   "id": "52a260d4",
   "metadata": {},
   "source": [
    "## Złożony sygnał – suma sinusów"
   ]
  },
  {
   "cell_type": "code",
   "execution_count": null,
   "id": "1d8ff19a",
   "metadata": {},
   "outputs": [],
   "source": [
    "\n",
    "signal1 = 0.5 * sbe.generate_sine(5.0, 0.0, 1.0, 100)\n",
    "signal2 = 1.1 * sbe.generate_sine(50.0, 0.0, 1.0, 100)\n",
    "mixed = [a + b for a, b in zip(signal1, signal2)]\n",
    "sbe.plot_signal(mixed)\n"
   ]
  },
  {
   "cell_type": "code",
   "execution_count": null,
   "id": "93de975b",
   "metadata": {},
   "outputs": [],
   "source": [
    "Image(\"raport/plot_mixed.png\")"
   ]
  },
  {
   "cell_type": "code",
   "execution_count": null,
   "id": "fc21d03a",
   "metadata": {},
   "outputs": [],
   "source": [
    "\n",
    "spectrum = sbe.dft(mixed)\n"
   ]
  },
  {
   "cell_type": "markdown",
   "id": "e761fffc",
   "metadata": {},
   "source": [
    "## Filtracja sygnału"
   ]
  },
  {
   "cell_type": "code",
   "execution_count": null,
   "id": "2e82159b",
   "metadata": {},
   "outputs": [],
   "source": [
    "\n",
    "filtered = sbe.low_pass_filter(mixed, 10.0, 100.0)\n",
    "sbe.plot_signal(filtered)\n"
   ]
  },
  {
   "cell_type": "code",
   "execution_count": null,
   "id": "4000ae73",
   "metadata": {},
   "outputs": [],
   "source": [
    "Image(\"raport/plot_filtered.png\")"
   ]
  },
  {
   "cell_type": "markdown",
   "id": "5c80b2aa",
   "metadata": {},
   "source": [
    "## Filtracja 2D – średnia ruchoma"
   ]
  },
  {
   "cell_type": "code",
   "execution_count": null,
   "id": "0af0ef58",
   "metadata": {},
   "outputs": [],
   "source": [
    "\n",
    "image = [[i + j for j in range(10)] for i in range(10)]\n",
    "filtered_2d = sbe.moving_average_filter(image)\n",
    "filtered_2d\n"
   ]
  },
  {
   "cell_type": "markdown",
   "id": "2e226c10",
   "metadata": {},
   "source": [
    "## Detekcja pików i energia"
   ]
  },
  {
   "cell_type": "code",
   "execution_count": null,
   "id": "ba3a8b02",
   "metadata": {},
   "outputs": [],
   "source": [
    "\n",
    "sbe.detect_peaks(sinus, 0.5)\n",
    "sbe.compute_energy(sinus)\n"
   ]
  },
  {
   "cell_type": "markdown",
   "id": "46aea8e1",
   "metadata": {},
   "source": [
    "## Podsumowanie"
   ]
  },
  {
   "cell_type": "markdown",
   "id": "ffdbd618",
   "metadata": {},
   "source": [
    "\n",
    "W notebooku zaprezentowano wszystkie funkcje wymagane w projekcie:\n",
    "- Sygnały 1D (sin, cos, square, sawtooth)\n",
    "- DFT / IDFT\n",
    "- Filtracja dolnoprzepustowa i 2D\n",
    "- Detekcja pików\n",
    "- Wizualizacja z matplot++\n",
    "\n",
    "Wszystkie funkcje zostały zaimplementowane w C++ i udostępnione jako moduł Pythonowy przez pybind11.\n"
   ]
  }
 ],
 "metadata": {},
 "nbformat": 4,
 "nbformat_minor": 5
}
