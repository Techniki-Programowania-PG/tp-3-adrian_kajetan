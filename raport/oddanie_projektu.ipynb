{
 "cells": [
  {
   "cell_type": "markdown",
   "id": "1f97c583",
   "metadata": {},
   "source": [
    "\n",
    "# Oddanie Projektu 3, grupa nr 7 – Przetwarzanie sygnałów\n",
    "\n",
    "Projekt implementuje bibliotekę C++ do przetwarzania sygnałów, udostępnioną jako moduł Pythonowy za pomocą pybind11.\n",
    "\n",
    "W tym notebooku prezentuję wszystkie podstawowe funkcjonalności:\n",
    "- Generowanie sygnałów o zadanej częstotliwości (sin, cos, prostokątny, piłokształtny)\n",
    "- Transformacja DFT i odwrotna IDFT\n",
    "- Filtracja 1D i 2D\n",
    "- Detekcja pików i energia sygnału\n",
    "- Wizualizacja sygnału z wykorzystaniem biblioteki matplotplusplus \n",
    "\n",
    "Przedstawiam także zadaną dodatkową funkcjonalność dla grupy nr 7:\n",
    "- Usuwanie wysokich częstotliwości z sygnału (korzystajac z DFT)\n",
    "\n",
    "Warto także dodać, iż nie dołączam wizualizacji wszystkich sygnałów, a jedynie wybranych dla pokazania funkcjonalności.\n"
   ]
  },
  {
   "cell_type": "code",
   "execution_count": null,
   "id": "50925243",
   "metadata": {},
   "outputs": [],
   "source": [
    "\n",
    "import scikit_build_example as sbe\n",
    "import numpy as np\n"
   ]
  },
  {
   "cell_type": "markdown",
   "id": "df9d7afd",
   "metadata": {},
   "source": [
    "\n",
    "## Generowanie sygnałów\n",
    "\n",
    "Poniżej generujemy 4 rodzaje sygnałów o częstotliwościach od 5 do 10 Hz, przez 2.0 sekundy, z 200 próbkami.\n"
   ]
  },
  {
   "cell_type": "code",
   "execution_count": null,
   "id": "2465fc7e",
   "metadata": {},
   "outputs": [],
   "source": [
    "\n",
    "sinus = sbe.generate_sine(5.0, 2.0, 200)\n",
    "cosinus = sbe.generate_cosine(10.0, 2.0, 200)\n",
    "square = sbe.generate_square(5.0, 2.0, 200)\n",
    "saw = sbe.generate_sawtooth(5.0, 2.0, 200)\n",
    "\n",
    "t = np.linspace(0.0, 2.0, 200)\n",
    "\n",
    "sbe.plot_signal(sinus)\n",
    "sbe.plot_signal(saw)\n"
   ]
  },
  {
   "cell_type": "markdown",
   "id": "64019ac7",
   "metadata": {},
   "source": [
    "\n",
    "## DFT i IDFT\n",
    "\n",
    "Sprawdzamy czy `idft(dft(x)) ≈ x` dla sygnału sinusoidalnego.\n"
   ]
  },
  {
   "cell_type": "code",
   "execution_count": null,
   "id": "a2fc7830",
   "metadata": {},
   "outputs": [],
   "source": [
    "\n",
    "spectrum = sbe.dft(sinus)\n",
    "restored = sbe.idft(spectrum)\n",
    "\n",
    "sbe.plot_signal(sinus)\n",
    "sbe.plot_signal(restored)\n"
   ]
  },
  {
   "cell_type": "code",
   "execution_count": null,
   "id": "87ca5530",
   "metadata": {},
   "outputs": [],
   "source": [
    "\n",
    "# Sprawdzenie błędu\n",
    "np.max(np.abs(np.array(sinus) - np.array([z.real for z in restored])))\n"
   ]
  },
  {
   "cell_type": "markdown",
   "id": "96fe421e",
   "metadata": {},
   "source": [
    "\n",
    "## Złożony sygnał – suma sinusów\n",
    "\n",
    "Pokazujemy przykład sygnału złożonego z 2 częstotliwości.\n"
   ]
  },
  {
   "cell_type": "code",
   "execution_count": null,
   "id": "6b25cac7",
   "metadata": {},
   "outputs": [],
   "source": [
    "\n",
    "signal1 = 0.5 * sbe.generate_sine(5.0, 2.0, 200)\n",
    "signal2 = 1.1 * sbe.generate_sine(50.0, 2.0, 200)\n",
    "mixed = [a + b for a, b in zip(signal1, signal2)]\n",
    "\n",
    "sbe.plot_signal(mixed)\n",
    "spectrum = sbe.dft(mixed)\n"
   ]
  },
  {
   "cell_type": "markdown",
   "id": "a56d4e6f",
   "metadata": {},
   "source": [
    "\n",
    "## Filtracja sygnału\n",
    "\n",
    "Zastosowanie filtru dolnoprzepustowego do złożonego sygnału.\n"
   ]
  },
  {
   "cell_type": "code",
   "execution_count": null,
   "id": "120db505",
   "metadata": {},
   "outputs": [],
   "source": [
    "\n",
    "filtered = sbe.low_pass_filter(mixed, 10.0, 200.0)\n",
    "sbe.plot_signal(filtered)\n"
   ]
  },
  {
   "cell_type": "markdown",
   "id": "d06dff01",
   "metadata": {},
   "source": [
    "\n",
    "## Filtracja 2D – średnia ruchoma\n"
   ]
  },
  {
   "cell_type": "code",
   "execution_count": null,
   "id": "c9d9df4c",
   "metadata": {},
   "outputs": [],
   "source": [
    "\n",
    "image = [[i + j for j in range(10)] for i in range(10)]\n",
    "filtered_2d = sbe.moving_average_filter(image)\n",
    "filtered_2d\n"
   ]
  },
  {
   "cell_type": "markdown",
   "id": "6a572280",
   "metadata": {},
   "source": [
    "\n",
    "## Detekcja pików i energia\n"
   ]
  },
  {
   "cell_type": "code",
   "execution_count": null,
   "id": "eebeebe3",
   "metadata": {},
   "outputs": [],
   "source": [
    "\n",
    "sbe.detect_peaks(sinus, 0.5)\n",
    "sbe.compute_energy(sinus)\n"
   ]
  },
  {
   "cell_type": "markdown",
   "id": "2ba366e1",
   "metadata": {},
   "source": [
    "\n",
    "## Podsumowanie\n",
    "\n",
    "W notebooku zaprezentowano wszystkie funkcje wymagane w projekcie:\n",
    "- Sygnały 1D (sin, cos, square, sawtooth)\n",
    "- DFT / IDFT\n",
    "- Filtracja dolnoprzepustowa i 2D\n",
    "- Detekcja pików\n",
    "- Wizualizacja z matplot++\n",
    "\n",
    "Wszystkie funkcje zostały zaimplementowane w C++ i udostępnione jako moduł Pythonowy przez pybind11.\n"
   ]
  }
 ],
 "metadata": {
  "language_info": {
   "name": "python"
  }
 },
 "nbformat": 4,
 "nbformat_minor": 5
}
