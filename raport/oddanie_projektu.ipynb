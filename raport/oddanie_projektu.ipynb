{
 "cells": [
  {
   "cell_type": "markdown",
   "id": "9b686ac2",
   "metadata": {},
   "source": [
    "# Oddanie Projektu 3, grupa nr 7 – Przetwarzanie sygnałów\n",
    "\n",
    "Projekt implementuje bibliotekę C++ do przetwarzania sygnałów, udostępnioną jako moduł Pythonowy za pomocą pybind11.\n",
    "\n",
    "W tym notebooku prezentuję wszystkie podstawowe funkcjonalności:\n",
    "- Generowanie sygnałów o zadanej częstotliwości (sin, cos, prostokątny, piłokształtny)\n",
    "- Transformacja DFT i odwrotna IDFT\n",
    "- Filtracja 1D i 2D\n",
    "- Detekcja pików i energia sygnału\n",
    "- Wizualizacja sygnału z wykorzystaniem biblioteki matplotplusplus\n",
    "\n",
    "Funkcjonalność dodatkowa dla grupy 7:\n",
    "- Usuwanie wysokich częstotliwości przy użyciu DFT"
   ]
  },
  {
   "cell_type": "code",
   "execution_count": null,
   "id": "b4059539",
   "metadata": {},
   "outputs": [],
   "source": [
    "import scikit_build_example as sbe\n",
    "import numpy as np\n",
    "from IPython.display import Image, display\n",
   ]
  },
  {
   "cell_type": "markdown",
   "id": "34159555",
   "metadata": {},
   "source": [
    "## Generowanie sygnałów"
   ]
  },
  {
   "cell_type": "code",
   "execution_count": null,
   "id": "9174b9a5",
   "metadata": {},
   "outputs": [],
   "source": [
    "sampling_rate = 200.0\n",
    "N = 200\n",
    "sinus = sbe.generate_sine(N, 5.0, sampling_rate)\n",
    "cosinus = sbe.generate_cosine(N, 8.0, sampling_rate)\n",
    "square = sbe.generate_square(N, 6.0, sampling_rate)\n",
    "saw = sbe.generate_sawtooth(N, 10.0, sampling_rate)\n"
   ]
  },
  {
   "cell_type": "markdown",
   "id": "413ff771",
   "metadata": {},
   "source": [
    "### Sygnał sinusoidalny"
   ]
  },
  {
   "cell_type": "code",
   "execution_count": null,
   "id": "7d35ec8d",
   "metadata": {},
   "outputs": [],
   "source": [
    "display(Image(filename='sinus_zwykly.png'))"
   ]
  },
  {
   "cell_type": "markdown",
   "id": "45ea1d27",
   "metadata": {},
   "source": [
    "### Sygnał piłokształtny"
   ]
  },
  {
   "cell_type": "code",
   "execution_count": null,
   "id": "75dec4b9",
   "metadata": {},
   "outputs": [],
   "source": [
    "display(Image(filename='pikoksztaltny_zwykly.png'))"
   ]
  },
  {
   "cell_type": "markdown",
   "id": "2e90228f",
   "metadata": {},
   "source": [
    "## DFT i IDFT"
   ]
  },
  {
   "cell_type": "code",
   "execution_count": null,
   "id": "1895810b",
   "metadata": {},
   "outputs": [],
   "source": [
    "spectrum = sbe.dft(sinus)\n",
    "restored = sbe.idft(spectrum)"
   ]
  },
  {
   "cell_type": "code",
   "execution_count": null,
   "id": "5c51bc97",
   "metadata": {},
   "outputs": [],
   "source": [
    "np.max(np.abs(np.array(sinus) - np.array([z.real for z in restored])))"
   ]
  },
  {
   "cell_type": "markdown",
   "id": "0ff104f7",
   "metadata": {},
   "source": [
    "## Złożony sygnał – suma sinusów"
   ]
  },
  {
   "cell_type": "code",
   "execution_count": null,
   "id": "f83c1dbf",
   "metadata": {},
   "outputs": [],
   "source": [
    "signal1 = 0.5 * np.array(sbe.generate_sine(N, 5.0, sampling_rate))\n",
    "signal2 = 1.1 * np.array(sbe.generate_sine(N, 50.0, sampling_rate))\n",
    "mixed = list(signal1 + signal2)"
   ]
  },
  {
   "cell_type": "code",
   "execution_count": null,
   "id": "e3a5b75e",
   "metadata": {},
   "outputs": [],
   "source": [
    "display(Image(filename='mixed_signal.png'))"
   ]
  },
  {
   "cell_type": "markdown",
   "id": "ffc13c70",
   "metadata": {},
   "source": [
    "## Widmo amplitudowe DFT"
   ]
  },
  {
   "cell_type": "code",
   "execution_count": null,
   "id": "e0cf1e29",
   "metadata": {},
   "outputs": [],
   "source": [
    "spectrum_mixed = sbe.dft(mixed)\n",
    "amplitudes = [abs(z) for z in spectrum_mixed]"
   ]
  },
  {
   "cell_type": "code",
   "execution_count": null,
   "id": "b9228f45",
   "metadata": {},
   "outputs": [],
   "source": [
    "display(Image(filename='amplitudes.png'))"
   ]
  },
  {
   "cell_type": "code",
   "execution_count": null,
   "id": "98962a18",
   "metadata": {},
   "outputs": [],
   "source": [
    "display(Image(filename='widmo_amplitudowe_dft.png'))"
   ]
  },
  {
   "cell_type": "markdown",
   "id": "8b6ad186",
   "metadata": {},
   "source": [
    "## Filtracja – usunięcie wysokich częstotliwości"
   ]
  },
  {
   "cell_type": "code",
   "execution_count": null,
   "id": "9d9e53ba",
   "metadata": {},
   "outputs": [],
   "source": [
    "filtered = sbe.low_pass_filter(mixed, 10.0, sampling_rate)"
   ]
  },
  {
   "cell_type": "code",
   "execution_count": null,
   "id": "c1398f0a",
   "metadata": {},
   "outputs": [],
   "source": [
    "display(Image(filename='filter_signal.png'))"
   ]
  },
  {
   "cell_type": "markdown",
   "id": "096f25db",
   "metadata": {},
   "source": [
    "## Detekcja pików i energia"
   ]
  },
  {
   "cell_type": "code",
   "execution_count": null,
   "id": "6b0341d4",
   "metadata": {},
   "outputs": [],
   "source": [
    "sbe.detect_peaks(sinus, 0.5)\n",
    "sbe.compute_energy(sinus)"
   ]
  },
  {
   "cell_type": "markdown",
   "id": "b154d8b6",
   "metadata": {},
   "source": [
    "## Filtracja 2D – średnia ruchoma"
   ]
  },
  {
   "cell_type": "code",
   "execution_count": null,
   "id": "19e688b8",
   "metadata": {},
   "outputs": [],
   "source": [
    "image = [[i + j for j in range(10)] for i in range(10)]\n",
    "sbe.moving_average_filter(image)"
   ]
  },
  {
   "cell_type": "markdown",
   "id": "72d50579",
   "metadata": {},
   "source": [
    "## Podsumowanie\n",
    "W notebooku zaprezentowano wszystkie funkcje wymagane w projekcie:\n",
    "- Sygnały 1D (sin, cos, square, sawtooth)\n",
    "- DFT / IDFT\n",
    "- Filtracja dolnoprzepustowa i 2D\n",
    "- Detekcja pików\n",
    "- Wizualizacja z matplot++\n",
    "\n",
    "Wszystkie funkcje zostały zaimplementowane w C++ i udostępnione jako moduł Pythonowy przez pybind11."
   ]
  }
 ],
 "metadata": {},
 "nbformat": 4,
 "nbformat_minor": 5
}
