{
 "cells": [
  {
   "cell_type": "markdown",
   "id": "b50d6ce0",
   "metadata": {},
   "source": [
    "# Oddanie Projektu 3, grupa nr 7 – Przetwarzanie sygnałów\n",
    "\n",
    "Projekt implementuje bibliotekę C++ do przetwarzania sygnałów, udostępnioną jako moduł Pythonowy za pomocą pybind11.\n",
    "\n",
    "W tym notebooku prezentuję wszystkie podstawowe funkcjonalności:\n",
    "- Generowanie sygnałów o zadanej częstotliwości (sin, cos, prostokątny, piłokształtny)\n",
    "- Transformacja DFT i odwrotna IDFT\n",
    "- Filtracja 1D i 2D\n",
    "- Detekcja pików i energia sygnału\n",
    "- Wizualizacja sygnału z wykorzystaniem biblioteki matplotplusplus\n",
    "\n",
    "Funkcjonalność dodatkowa dla grupy 7:\n",
    "- Usuwanie wysokich częstotliwości przy użyciu DFT"
   ]
  },
  {
   "cell_type": "code",
   "execution_count": null,
   "id": "4c6de3fa",
   "metadata": {},
   "outputs": [],
   "source": [
    "import scikit_build_example as sbe\n",
    "import numpy as np"
   ]
  },
  {
   "cell_type": "markdown",
   "id": "ca6de812",
   "metadata": {},
   "source": [
    "## Generowanie sygnałów"
   ]
  },
  {
   "cell_type": "code",
   "execution_count": null,
   "id": "5f8ab706",
   "metadata": {},
   "outputs": [],
   "source": [
    "sampling_rate = 200.0\n",
    "N = 200\n",
    "sinus = sbe.generate_sine(N, 5.0, sampling_rate)\n",
    "cosinus = sbe.generate_cosine(N, 8.0, sampling_rate)\n",
    "square = sbe.generate_square(N, 6.0, sampling_rate)\n",
    "saw = sbe.generate_sawtooth(N, 10.0, sampling_rate)"
   ]
  },
  {
   "cell_type": "code",
   "execution_count": null,
   "id": "c982e49d",
   "metadata": {},
   "outputs": [],
   "source": [
    "sbe.plot_signal(sinus)"
   ]
  },
  {
   "cell_type": "markdown",
   "id": "dd4f056d",
   "metadata": {},
   "source": [
    "![Sygnał sinusoidalny](sinus_zwykly.png)"
   ]
  },
  {
   "cell_type": "code",
   "execution_count": null,
   "id": "8b580b84",
   "metadata": {},
   "outputs": [],
   "source": [
    "sbe.plot_signal(saw)"
   ]
  },
  {
   "cell_type": "markdown",
   "id": "354b1d2f",
   "metadata": {},
   "source": [
    "![Sygnał piłokształtny](pikoksztaltny_zwykly.png)"
   ]
  },
  {
   "cell_type": "markdown",
   "id": "5f69f05a",
   "metadata": {},
   "source": [
    "## DFT i IDFT"
   ]
  },
  {
   "cell_type": "code",
   "execution_count": null,
   "id": "af7265e7",
   "metadata": {},
   "outputs": [],
   "source": [
    "spectrum = sbe.dft(sinus)\n",
    "restored = sbe.idft(spectrum)"
   ]
  },
  {
   "cell_type": "code",
   "execution_count": null,
   "id": "03709240",
   "metadata": {},
   "outputs": [],
   "source": [
    "np.max(np.abs(np.array(sinus) - np.array([z.real for z in restored])))"
   ]
  },
  {
   "cell_type": "markdown",
   "id": "80d7a6cf",
   "metadata": {},
   "source": [
    "### Widmo amplitudowe DFT – sinus"
   ]
  },
  {
   "cell_type": "code",
   "execution_count": null,
   "id": "1dd2467e",
   "metadata": {},
   "outputs": [],
   "source": [
    "spectrum_sin = sbe.dft(sinus)\n",
    "amplitudes_sin = [abs(z) for z in spectrum_sin]\n",
    "sbe.plot_signal(amplitudes_sin)"
   ]
  },
  {
   "cell_type": "markdown",
   "id": "182aac79",
   "metadata": {},
   "source": [
    "![Widmo amplitudowe DFT – sinus 5 Hz](widmo_amplitudowe_dft.png)"
   ]
  },
  {
   "cell_type": "markdown",
   "id": "8657ec9b",
   "metadata": {},
   "source": [
    "## Złożony sygnał – suma sinusów"
   ]
  },
  {
   "cell_type": "code",
   "execution_count": null,
   "id": "4d15d7f9",
   "metadata": {},
   "outputs": [],
   "source": [
    "signal1 = 0.5 * np.array(sbe.generate_sine(N, 5.0, sampling_rate))\n",
    "signal2 = 1.1 * np.array(sbe.generate_sine(N, 50.0, sampling_rate))\n",
    "mixed = list(signal1 + signal2)"
   ]
  },
  {
   "cell_type": "code",
   "execution_count": null,
   "id": "a02147af",
   "metadata": {},
   "outputs": [],
   "source": [
    "sbe.plot_signal(mixed)"
   ]
  },
  {
   "cell_type": "markdown",
   "id": "8d46b6fb",
   "metadata": {},
   "source": [
    "![Złożony sygnał – suma](mixed_signal.png)"
   ]
  },
  {
   "cell_type": "markdown",
   "id": "2704a9e9",
   "metadata": {},
   "source": [
    "## Widmo amplitudowe DFT – sygnał złożony"
   ]
  },
  {
   "cell_type": "code",
   "execution_count": null,
   "id": "167aec92",
   "metadata": {},
   "outputs": [],
   "source": [
    "spectrum_mixed = sbe.dft(mixed)\n",
    "amplitudes = [abs(z) for z in spectrum_mixed]\n",
    "sbe.plot_signal(amplitudes)"
   ]
  },
  {
   "cell_type": "markdown",
   "id": "55b1d71c",
   "metadata": {},
   "source": [
    "![Widmo złożonego sygnału](amplitudes.png)"
   ]
  },
  {
   "cell_type": "markdown",
   "id": "59cf086e",
   "metadata": {},
   "source": [
    "![Widmo amplitudowe DFT](widmo_amplitudowe_dft.png)"
   ]
  },
  {
   "cell_type": "markdown",
   "id": "be09e5bb",
   "metadata": {},
   "source": [
    "## Filtracja – usunięcie wysokich częstotliwości"
   ]
  },
  {
   "cell_type": "code",
   "execution_count": null,
   "id": "4131f649",
   "metadata": {},
   "outputs": [],
   "source": [
    "filtered = sbe.low_pass_filter(mixed, 10.0, sampling_rate)\n",
    "sbe.plot_signal(filtered)"
   ]
  },
  {
   "cell_type": "markdown",
   "id": "49926b85",
   "metadata": {},
   "source": [
    "![Po filtracji](filter_signal.png)"
   ]
  },
  {
   "cell_type": "markdown",
   "id": "4e7ca7bf",
   "metadata": {},
   "source": [
    "## Detekcja pików i energia"
   ]
  },
  {
   "cell_type": "code",
   "execution_count": null,
   "id": "0cce0f02",
   "metadata": {},
   "outputs": [],
   "source": [
    "sbe.detect_peaks(sinus, 0.5)\n",
    "sbe.compute_energy(sinus)"
   ]
  },
  {
   "cell_type": "markdown",
   "id": "768d6a40",
   "metadata": {},
   "source": [
    "## Filtracja 2D – średnia ruchoma"
   ]
  },
  {
   "cell_type": "code",
   "execution_count": null,
   "id": "4549b52f",
   "metadata": {},
   "outputs": [],
   "source": [
    "image = [[i + j for j in range(10)] for i in range(10)]\n",
    "sbe.moving_average_filter(image)"
   ]
  },
  {
   "cell_type": "markdown",
   "id": "e7eaa443",
   "metadata": {},
   "source": [
    "## Podsumowanie\n",
    "Notebook prezentuje wszystkie funkcjonalności projektu:\n",
    "- Generowanie podstawowych sygnałów\n",
    "- Transformacje DFT i IDFT\n",
    "- Filtracje 1D i 2D\n",
    "- Detekcję pików oraz energię\n",
    "- Wizualizację wyników z matplot++\n",
    "Wszystkie funkcje zaimplementowane są w C++ i dostępne z poziomu Pythona dzięki pybind11."
   ]
  },
  {
   "cell_type": "markdown",
   "id": "04bf6e6e",
   "metadata": {},
   "source": [
    "## Widma amplitudowe (C++) – Matplot++"
   ]
  },
  {
   "cell_type": "markdown",
   "id": "4480d040",
   "metadata": {},
   "source": [
    "\n",
    "```cpp\n",
    "// Wywołanie DFT i wizualizacja widma amplitudowego z wykorzystaniem biblioteki Matplot++\n",
    "\n",
    "#include \"fourier.hpp\"\n",
    "#include \"visualization.hpp\"\n",
    "\n",
    "std::vector<double> signal = generate_sine(200, 5.0, 200.0);\n",
    "std::vector<std::complex<double>> spectrum = dft(signal);\n",
    "\n",
    "plot_amplitude_spectrum(spectrum, \"Widmo amplitudowe DFT – sinus 5 Hz\");\n",
    "```\n"
   ]
  },
  {
   "cell_type": "markdown",
   "id": "01ec1526",
   "metadata": {},
   "source": [
    "\n",
    "```cpp\n",
    "// Przykład złożonego sygnału z dwiema częstotliwościami – również z wizualizacją\n",
    "\n",
    "auto signal1 = 0.5 * generate_sine(200, 5.0, 200.0);\n",
    "auto signal2 = 1.1 * generate_sine(200, 50.0, 200.0);\n",
    "std::vector<double> mixed(signal1.size());\n",
    "for (size_t i = 0; i < mixed.size(); ++i)\n",
    "    mixed[i] = signal1[i] + signal2[i];\n",
    "\n",
    "auto spectrum_mixed = dft(mixed);\n",
    "plot_amplitude_spectrum(spectrum_mixed, \"Widmo amplitudowe DFT – złożony sygnał\");\n",
    "```\n"
   ]
  }
 ],
 "metadata": {},
 "nbformat": 4,
 "nbformat_minor": 5
}
